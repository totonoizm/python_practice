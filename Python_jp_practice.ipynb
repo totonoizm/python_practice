{
  "nbformat": 4,
  "nbformat_minor": 0,
  "metadata": {
    "colab": {
      "name": "Python_jp_practice.ipynb",
      "provenance": [],
      "collapsed_sections": [],
      "authorship_tag": "ABX9TyPgG0/dP1LmtGyhU/U40+V0",
      "include_colab_link": true
    },
    "kernelspec": {
      "name": "python3",
      "display_name": "Python 3"
    },
    "language_info": {
      "name": "python"
    }
  },
  "cells": [
    {
      "cell_type": "markdown",
      "metadata": {
        "id": "view-in-github",
        "colab_type": "text"
      },
      "source": [
        "<a href=\"https://colab.research.google.com/github/totonoizm/python_practice/blob/main/Python_jp_practice.ipynb\" target=\"_parent\"><img src=\"https://colab.research.google.com/assets/colab-badge.svg\" alt=\"Open In Colab\"/></a>"
      ]
    },
    {
      "cell_type": "code",
      "metadata": {
        "colab": {
          "base_uri": "https://localhost:8080/"
        },
        "id": "GM2s1YW3ITG3",
        "outputId": "20f4371c-8c09-4fcc-913d-926c5bd1dc1c"
      },
      "source": [
        "print (\"hello\")"
      ],
      "execution_count": 2,
      "outputs": [
        {
          "output_type": "stream",
          "text": [
            "hello\n"
          ],
          "name": "stdout"
        }
      ]
    },
    {
      "cell_type": "code",
      "metadata": {
        "id": "B2hqwJPuIZNz"
      },
      "source": [
        "def py2_or_py3():\n",
        "    major = sys.version_info.major\n",
        "    if major < 3:\n",
        "        return \"python2\"\n",
        "    else:\n",
        "        return \"python3\""
      ],
      "execution_count": 3,
      "outputs": []
    },
    {
      "cell_type": "code",
      "metadata": {
        "colab": {
          "base_uri": "https://localhost:8080/"
        },
        "id": "9JzTeeqQJMRU",
        "outputId": "7b9fc22b-acb4-435b-b683-27c5297281e2"
      },
      "source": [
        "py2_or_py3"
      ],
      "execution_count": 4,
      "outputs": [
        {
          "output_type": "execute_result",
          "data": {
            "text/plain": [
              "<function __main__.py2_or_py3>"
            ]
          },
          "metadata": {
            "tags": []
          },
          "execution_count": 4
        }
      ]
    },
    {
      "cell_type": "code",
      "metadata": {
        "colab": {
          "base_uri": "https://localhost:8080/",
          "height": 134
        },
        "id": "kITDHBCwJSTe",
        "outputId": "c710beca-66e2-4c61-9b32-dd7bf03dcd8a"
      },
      "source": [
        "python py2_or_py3"
      ],
      "execution_count": 5,
      "outputs": [
        {
          "output_type": "error",
          "ename": "SyntaxError",
          "evalue": "ignored",
          "traceback": [
            "\u001b[0;36m  File \u001b[0;32m\"<ipython-input-5-b2dbc7610119>\"\u001b[0;36m, line \u001b[0;32m1\u001b[0m\n\u001b[0;31m    python py2_or_py3\u001b[0m\n\u001b[0m                    ^\u001b[0m\n\u001b[0;31mSyntaxError\u001b[0m\u001b[0;31m:\u001b[0m invalid syntax\n"
          ]
        }
      ]
    },
    {
      "cell_type": "code",
      "metadata": {
        "colab": {
          "base_uri": "https://localhost:8080/",
          "height": 134
        },
        "id": "C-ZCPJbhJVTm",
        "outputId": "778fa1f0-1949-4fa0-b928-213156849c94"
      },
      "source": [
        "py2_or_py3(3):"
      ],
      "execution_count": 6,
      "outputs": [
        {
          "output_type": "error",
          "ename": "SyntaxError",
          "evalue": "ignored",
          "traceback": [
            "\u001b[0;36m  File \u001b[0;32m\"<ipython-input-6-daa81df5dc15>\"\u001b[0;36m, line \u001b[0;32m1\u001b[0m\n\u001b[0;31m    py2_or_py3(3):\u001b[0m\n\u001b[0m                  ^\u001b[0m\n\u001b[0;31mSyntaxError\u001b[0m\u001b[0;31m:\u001b[0m invalid syntax\n"
          ]
        }
      ]
    },
    {
      "cell_type": "code",
      "metadata": {
        "id": "exONVlebKD2h"
      },
      "source": [
        "def itiban(items):\n",
        "    if items:\n",
        "        return items[0]\n",
        "    else:\n",
        "        return none\n"
      ],
      "execution_count": 7,
      "outputs": []
    },
    {
      "cell_type": "code",
      "metadata": {
        "colab": {
          "base_uri": "https://localhost:8080/",
          "height": 35
        },
        "id": "ZqgtjfQoKU25",
        "outputId": "375f2f76-31c6-47ec-c53a-f80be318d808"
      },
      "source": [
        "itiban([\"jog\"])"
      ],
      "execution_count": 8,
      "outputs": [
        {
          "output_type": "execute_result",
          "data": {
            "application/vnd.google.colaboratory.intrinsic+json": {
              "type": "string"
            },
            "text/plain": [
              "'jog'"
            ]
          },
          "metadata": {
            "tags": []
          },
          "execution_count": 8
        }
      ]
    },
    {
      "cell_type": "code",
      "metadata": {
        "colab": {
          "base_uri": "https://localhost:8080/",
          "height": 253
        },
        "id": "TzQEygO9KZel",
        "outputId": "8ddf01b5-55ee-4b6f-f295-0d9e2b10691e"
      },
      "source": [
        "itiban([])"
      ],
      "execution_count": 10,
      "outputs": [
        {
          "output_type": "error",
          "ename": "NameError",
          "evalue": "ignored",
          "traceback": [
            "\u001b[0;31m---------------------------------------------------------------------------\u001b[0m",
            "\u001b[0;31mNameError\u001b[0m                                 Traceback (most recent call last)",
            "\u001b[0;32m<ipython-input-10-1e1ee0f2ed81>\u001b[0m in \u001b[0;36m<module>\u001b[0;34m()\u001b[0m\n\u001b[0;32m----> 1\u001b[0;31m \u001b[0mitiban\u001b[0m\u001b[0;34m(\u001b[0m\u001b[0;34m[\u001b[0m\u001b[0;34m]\u001b[0m\u001b[0;34m)\u001b[0m\u001b[0;34m\u001b[0m\u001b[0;34m\u001b[0m\u001b[0m\n\u001b[0m",
            "\u001b[0;32m<ipython-input-7-f98b1aeb0d67>\u001b[0m in \u001b[0;36mitiban\u001b[0;34m(items)\u001b[0m\n\u001b[1;32m      3\u001b[0m         \u001b[0;32mreturn\u001b[0m \u001b[0mitems\u001b[0m\u001b[0;34m[\u001b[0m\u001b[0;36m0\u001b[0m\u001b[0;34m]\u001b[0m\u001b[0;34m\u001b[0m\u001b[0;34m\u001b[0m\u001b[0m\n\u001b[1;32m      4\u001b[0m     \u001b[0;32melse\u001b[0m\u001b[0;34m:\u001b[0m\u001b[0;34m\u001b[0m\u001b[0;34m\u001b[0m\u001b[0m\n\u001b[0;32m----> 5\u001b[0;31m         \u001b[0;32mreturn\u001b[0m \u001b[0mnone\u001b[0m\u001b[0;34m\u001b[0m\u001b[0;34m\u001b[0m\u001b[0m\n\u001b[0m",
            "\u001b[0;31mNameError\u001b[0m: name 'none' is not defined"
          ]
        }
      ]
    },
    {
      "cell_type": "code",
      "metadata": {
        "colab": {
          "base_uri": "https://localhost:8080/",
          "height": 35
        },
        "id": "9gviXQJBKb3P",
        "outputId": "29614671-6e29-488a-e67d-bc5b04a54b78"
      },
      "source": [
        "itiban([\"book\"]\n",
        "    )"
      ],
      "execution_count": 13,
      "outputs": [
        {
          "output_type": "execute_result",
          "data": {
            "application/vnd.google.colaboratory.intrinsic+json": {
              "type": "string"
            },
            "text/plain": [
              "'book'"
            ]
          },
          "metadata": {
            "tags": []
          },
          "execution_count": 13
        }
      ]
    },
    {
      "cell_type": "code",
      "metadata": {
        "colab": {
          "base_uri": "https://localhost:8080/"
        },
        "id": "MStXq8paKiQL",
        "outputId": "584ba9dc-d4b1-4a40-b89f-9507cf537f82"
      },
      "source": [
        "x = \"book\"\n",
        "y = \"note\"\n",
        "x == y"
      ],
      "execution_count": 16,
      "outputs": [
        {
          "output_type": "execute_result",
          "data": {
            "text/plain": [
              "False"
            ]
          },
          "metadata": {
            "tags": []
          },
          "execution_count": 16
        }
      ]
    },
    {
      "cell_type": "code",
      "metadata": {
        "colab": {
          "base_uri": "https://localhost:8080/",
          "height": 35
        },
        "id": "PGnLnGSXKyF8",
        "outputId": "cbf40a58-e2c2-4404-8c25-9b71c811807b"
      },
      "source": [
        "x"
      ],
      "execution_count": 17,
      "outputs": [
        {
          "output_type": "execute_result",
          "data": {
            "application/vnd.google.colaboratory.intrinsic+json": {
              "type": "string"
            },
            "text/plain": [
              "'book'"
            ]
          },
          "metadata": {
            "tags": []
          },
          "execution_count": 17
        }
      ]
    },
    {
      "cell_type": "code",
      "metadata": {
        "colab": {
          "base_uri": "https://localhost:8080/"
        },
        "id": "pTivJfI4K9Ng",
        "outputId": "bd52482a-478f-4264-e26a-dc3e96937589"
      },
      "source": [
        "x != y"
      ],
      "execution_count": 18,
      "outputs": [
        {
          "output_type": "execute_result",
          "data": {
            "text/plain": [
              "True"
            ]
          },
          "metadata": {
            "tags": []
          },
          "execution_count": 18
        }
      ]
    },
    {
      "cell_type": "code",
      "metadata": {
        "colab": {
          "base_uri": "https://localhost:8080/"
        },
        "id": "hpvTDP4CK_Y0",
        "outputId": "c02269c3-2832-4f54-a60e-f8cae852b24a"
      },
      "source": [
        "for i in range(3):\n",
        "    print(f'{i}番目の処理')"
      ],
      "execution_count": 19,
      "outputs": [
        {
          "output_type": "stream",
          "text": [
            "0番目の処理\n",
            "1番目の処理\n",
            "2番目の処理\n"
          ],
          "name": "stdout"
        }
      ]
    },
    {
      "cell_type": "code",
      "metadata": {
        "colab": {
          "base_uri": "https://localhost:8080/"
        },
        "id": "rMK0bRwQNYBG",
        "outputId": "77d35c8b-9226-424f-c306-2990b68dd9ae"
      },
      "source": [
        "# 奇数がなければメッセージを表示\n",
        "nums = [2, 8]\n",
        "for n in nums:\n",
        "    if n % 2 == 1:\n",
        "        break\n",
        "else:\n",
        "    print(\"奇数にせよ\")\n"
      ],
      "execution_count": 27,
      "outputs": [
        {
          "output_type": "stream",
          "text": [
            "奇数にせよ\n"
          ],
          "name": "stdout"
        }
      ]
    },
    {
      "cell_type": "code",
      "metadata": {
        "colab": {
          "base_uri": "https://localhost:8080/",
          "height": 168
        },
        "id": "dlkIG_R6O33j",
        "outputId": "a103287e-6a1f-4f76-8a1d-ab4f18c2513d"
      },
      "source": [
        "m"
      ],
      "execution_count": 28,
      "outputs": [
        {
          "output_type": "error",
          "ename": "NameError",
          "evalue": "ignored",
          "traceback": [
            "\u001b[0;31m---------------------------------------------------------------------------\u001b[0m",
            "\u001b[0;31mNameError\u001b[0m                                 Traceback (most recent call last)",
            "\u001b[0;32m<ipython-input-28-9a40b379906c>\u001b[0m in \u001b[0;36m<module>\u001b[0;34m()\u001b[0m\n\u001b[0;32m----> 1\u001b[0;31m \u001b[0mm\u001b[0m\u001b[0;34m\u001b[0m\u001b[0;34m\u001b[0m\u001b[0m\n\u001b[0m",
            "\u001b[0;31mNameError\u001b[0m: name 'm' is not defined"
          ]
        }
      ]
    },
    {
      "cell_type": "code",
      "metadata": {
        "id": "J-jiyWbMPIzV"
      },
      "source": [
        "for m in range(3):\n",
        "    pass"
      ],
      "execution_count": 29,
      "outputs": []
    },
    {
      "cell_type": "code",
      "metadata": {
        "colab": {
          "base_uri": "https://localhost:8080/"
        },
        "id": "H1VKawPWPNlK",
        "outputId": "a6e6a547-b4b7-48bc-e706-9a8b283a1e50"
      },
      "source": [
        "m"
      ],
      "execution_count": 30,
      "outputs": [
        {
          "output_type": "execute_result",
          "data": {
            "text/plain": [
              "2"
            ]
          },
          "metadata": {
            "tags": []
          },
          "execution_count": 30
        }
      ]
    },
    {
      "cell_type": "code",
      "metadata": {
        "id": "5pGWvE6rPPXY"
      },
      "source": [
        "for m in range(1):\n",
        "    pass"
      ],
      "execution_count": 31,
      "outputs": []
    },
    {
      "cell_type": "code",
      "metadata": {
        "colab": {
          "base_uri": "https://localhost:8080/"
        },
        "id": "H0Q3-mcMPTL7",
        "outputId": "25f21b99-3fef-40fc-842b-42635d8ec048"
      },
      "source": [
        "m"
      ],
      "execution_count": 32,
      "outputs": [
        {
          "output_type": "execute_result",
          "data": {
            "text/plain": [
              "0"
            ]
          },
          "metadata": {
            "tags": []
          },
          "execution_count": 32
        }
      ]
    },
    {
      "cell_type": "code",
      "metadata": {
        "colab": {
          "base_uri": "https://localhost:8080/"
        },
        "id": "D-xWY-iSPUVO",
        "outputId": "e36dcb9f-d493-47c7-f0ad-42daa4325475"
      },
      "source": [
        "n = 0\n",
        "while n < 10:\n",
        "    print(f\"変数ｎの値は{n}\")\n",
        "    n += 1\n"
      ],
      "execution_count": 38,
      "outputs": [
        {
          "output_type": "stream",
          "text": [
            "変数ｎの値は0\n",
            "変数ｎの値は1\n",
            "変数ｎの値は2\n",
            "変数ｎの値は3\n",
            "変数ｎの値は4\n",
            "変数ｎの値は5\n",
            "変数ｎの値は6\n",
            "変数ｎの値は7\n",
            "変数ｎの値は8\n",
            "変数ｎの値は9\n"
          ],
          "name": "stdout"
        }
      ]
    },
    {
      "cell_type": "code",
      "metadata": {
        "id": "Nf8VwcHaPqxN"
      },
      "source": [
        "def has_book(items):\n",
        "            for item in items:\n",
        "                if \"book\" in item:\n",
        "                     print(\"見つけた\")\n",
        "                     break\n",
        "            else:\n",
        "                    print(\"ないよ\")"
      ],
      "execution_count": 43,
      "outputs": []
    },
    {
      "cell_type": "code",
      "metadata": {
        "colab": {
          "base_uri": "https://localhost:8080/"
        },
        "id": "vmTHzL_tSOIe",
        "outputId": "d10334b0-e392-4876-c2fd-0307a4f060e0"
      },
      "source": [
        "has_book([\"note\",\"hoge\",\"tako\"])"
      ],
      "execution_count": 44,
      "outputs": [
        {
          "output_type": "stream",
          "text": [
            "ないよ\n"
          ],
          "name": "stdout"
        }
      ]
    },
    {
      "cell_type": "code",
      "metadata": {
        "id": "CqC6Y0zqSTGC"
      },
      "source": [
        "def has_book(items):\n",
        "    copied = items.copy()\n",
        "    while copied:\n",
        "        item = copied.pop()\n",
        "        if \"book\" in item:\n",
        "            print(\"found\")\n",
        "            break\n",
        "    else:\n",
        "        print(\"naidesu\")"
      ],
      "execution_count": 47,
      "outputs": []
    },
    {
      "cell_type": "code",
      "metadata": {
        "colab": {
          "base_uri": "https://localhost:8080/"
        },
        "id": "4jVKuPuiTjET",
        "outputId": "db534cba-3b42-4a96-dc4f-344e378e42a0"
      },
      "source": [
        "has_book([\"note\",\"notebook\"])"
      ],
      "execution_count": 49,
      "outputs": [
        {
          "output_type": "stream",
          "text": [
            "found\n"
          ],
          "name": "stdout"
        }
      ]
    },
    {
      "cell_type": "code",
      "metadata": {
        "id": "9qgWeC14Tp0f"
      },
      "source": [
        "def list_books(items):\n",
        "    for item in items:\n",
        "        if \"book\" not in item:\n",
        "            continue\n",
        "        print(item)"
      ],
      "execution_count": 51,
      "outputs": []
    },
    {
      "cell_type": "code",
      "metadata": {
        "colab": {
          "base_uri": "https://localhost:8080/"
        },
        "id": "zC5-SR4xU4MU",
        "outputId": "75a5c154-1155-473f-85a4-32e026341026"
      },
      "source": [
        "list_books([\"book\",\"note\",\"notebook\"])"
      ],
      "execution_count": 52,
      "outputs": [
        {
          "output_type": "stream",
          "text": [
            "book\n",
            "notebook\n"
          ],
          "name": "stdout"
        }
      ]
    },
    {
      "cell_type": "code",
      "metadata": {
        "colab": {
          "base_uri": "https://localhost:8080/",
          "height": 185
        },
        "id": "gM987CiTVSyf",
        "outputId": "19c91e80-149f-47b4-8c00-c4baaacbe5ef"
      },
      "source": [
        "items = [1,2,3]\n",
        "items[10]"
      ],
      "execution_count": 53,
      "outputs": [
        {
          "output_type": "error",
          "ename": "IndexError",
          "evalue": "ignored",
          "traceback": [
            "\u001b[0;31m---------------------------------------------------------------------------\u001b[0m",
            "\u001b[0;31mIndexError\u001b[0m                                Traceback (most recent call last)",
            "\u001b[0;32m<ipython-input-53-1f2b5c27bb7d>\u001b[0m in \u001b[0;36m<module>\u001b[0;34m()\u001b[0m\n\u001b[1;32m      1\u001b[0m \u001b[0mitems\u001b[0m \u001b[0;34m=\u001b[0m \u001b[0;34m[\u001b[0m\u001b[0;36m1\u001b[0m\u001b[0;34m,\u001b[0m\u001b[0;36m2\u001b[0m\u001b[0;34m,\u001b[0m\u001b[0;36m3\u001b[0m\u001b[0;34m]\u001b[0m\u001b[0;34m\u001b[0m\u001b[0;34m\u001b[0m\u001b[0m\n\u001b[0;32m----> 2\u001b[0;31m \u001b[0mitems\u001b[0m\u001b[0;34m[\u001b[0m\u001b[0;36m10\u001b[0m\u001b[0;34m]\u001b[0m\u001b[0;34m\u001b[0m\u001b[0;34m\u001b[0m\u001b[0m\n\u001b[0m",
            "\u001b[0;31mIndexError\u001b[0m: list index out of range"
          ]
        }
      ]
    },
    {
      "cell_type": "code",
      "metadata": {
        "id": "xBFGQ7J5YBgv"
      },
      "source": [
        "def get_book(index):\n",
        "    items = [\"note\",\"notebook\", \"sketchbook\"]\n",
        "    try:\n",
        "        return items[index]\n",
        "    except IndexError:\n",
        "        return \"範囲外\""
      ],
      "execution_count": 54,
      "outputs": []
    },
    {
      "cell_type": "code",
      "metadata": {
        "colab": {
          "base_uri": "https://localhost:8080/",
          "height": 287
        },
        "id": "mpI3FEAyYseP",
        "outputId": "2c286969-af98-480b-a6ad-1caae889075a"
      },
      "source": [
        "get_book(\"note\")"
      ],
      "execution_count": 56,
      "outputs": [
        {
          "output_type": "error",
          "ename": "TypeError",
          "evalue": "ignored",
          "traceback": [
            "\u001b[0;31m---------------------------------------------------------------------------\u001b[0m",
            "\u001b[0;31mTypeError\u001b[0m                                 Traceback (most recent call last)",
            "\u001b[0;32m<ipython-input-56-a464c234a5ac>\u001b[0m in \u001b[0;36m<module>\u001b[0;34m()\u001b[0m\n\u001b[0;32m----> 1\u001b[0;31m \u001b[0mget_book\u001b[0m\u001b[0;34m(\u001b[0m\u001b[0;34m\"note\"\u001b[0m\u001b[0;34m)\u001b[0m\u001b[0;34m\u001b[0m\u001b[0;34m\u001b[0m\u001b[0m\n\u001b[0m",
            "\u001b[0;32m<ipython-input-54-b60636daadb1>\u001b[0m in \u001b[0;36mget_book\u001b[0;34m(index)\u001b[0m\n\u001b[1;32m      2\u001b[0m     \u001b[0mitems\u001b[0m \u001b[0;34m=\u001b[0m \u001b[0;34m[\u001b[0m\u001b[0;34m\"note\"\u001b[0m\u001b[0;34m,\u001b[0m\u001b[0;34m\"notebook\"\u001b[0m\u001b[0;34m,\u001b[0m \u001b[0;34m\"sketchbook\"\u001b[0m\u001b[0;34m]\u001b[0m\u001b[0;34m\u001b[0m\u001b[0;34m\u001b[0m\u001b[0m\n\u001b[1;32m      3\u001b[0m     \u001b[0;32mtry\u001b[0m\u001b[0;34m:\u001b[0m\u001b[0;34m\u001b[0m\u001b[0;34m\u001b[0m\u001b[0m\n\u001b[0;32m----> 4\u001b[0;31m         \u001b[0;32mreturn\u001b[0m \u001b[0mitems\u001b[0m\u001b[0;34m[\u001b[0m\u001b[0mindex\u001b[0m\u001b[0;34m]\u001b[0m\u001b[0;34m\u001b[0m\u001b[0;34m\u001b[0m\u001b[0m\n\u001b[0m\u001b[1;32m      5\u001b[0m     \u001b[0;32mexcept\u001b[0m \u001b[0mIndexError\u001b[0m\u001b[0;34m:\u001b[0m\u001b[0;34m\u001b[0m\u001b[0;34m\u001b[0m\u001b[0m\n\u001b[1;32m      6\u001b[0m         \u001b[0;32mreturn\u001b[0m \u001b[0;34m\"範囲外\"\u001b[0m\u001b[0;34m\u001b[0m\u001b[0;34m\u001b[0m\u001b[0m\n",
            "\u001b[0;31mTypeError\u001b[0m: list indices must be integers or slices, not str"
          ]
        }
      ]
    },
    {
      "cell_type": "code",
      "metadata": {
        "id": "i6k56I3rZArn"
      },
      "source": [
        "def get_book(index):\n",
        "    items = [\"note\",\"notebook\",\"sketchbook\"]\n",
        "    try:\n",
        "        return items[index]\n",
        "    except IndexError:\n",
        "        print(f\"IndexErrorが発生しました\")\n",
        "        return \"範囲外\"\n",
        "    except TypeError:\n",
        "        print(\"typeErrorが発生しました\")\n",
        "        return \"範囲外\""
      ],
      "execution_count": 60,
      "outputs": []
    },
    {
      "cell_type": "code",
      "metadata": {
        "colab": {
          "base_uri": "https://localhost:8080/",
          "height": 52
        },
        "id": "_csgtuNocter",
        "outputId": "271f790a-01f9-4d11-e23d-837a36f5c07e"
      },
      "source": [
        "get_book(3)"
      ],
      "execution_count": 61,
      "outputs": [
        {
          "output_type": "stream",
          "text": [
            "IndexErrorが発生しました\n"
          ],
          "name": "stdout"
        },
        {
          "output_type": "execute_result",
          "data": {
            "application/vnd.google.colaboratory.intrinsic+json": {
              "type": "string"
            },
            "text/plain": [
              "'範囲外'"
            ]
          },
          "metadata": {
            "tags": []
          },
          "execution_count": 61
        }
      ]
    },
    {
      "cell_type": "code",
      "metadata": {
        "colab": {
          "base_uri": "https://localhost:8080/",
          "height": 52
        },
        "id": "6HUih42mcy0i",
        "outputId": "c8cd263f-7ced-4e39-d2f3-a2f097b05588"
      },
      "source": [
        "get_book(\"3\")"
      ],
      "execution_count": 62,
      "outputs": [
        {
          "output_type": "stream",
          "text": [
            "typeErrorが発生しました\n"
          ],
          "name": "stdout"
        },
        {
          "output_type": "execute_result",
          "data": {
            "application/vnd.google.colaboratory.intrinsic+json": {
              "type": "string"
            },
            "text/plain": [
              "'範囲外'"
            ]
          },
          "metadata": {
            "tags": []
          },
          "execution_count": 62
        }
      ]
    },
    {
      "cell_type": "code",
      "metadata": {
        "id": "3nqn5UtbeI7o"
      },
      "source": [
        "def get_book_wrapper(index):\n",
        "    try:\n",
        "        return get_book(index)\n",
        "    except IndexError:\n",
        "        print(f\"Indexerrorが発生しました\")\n",
        "        return \"範囲外です\""
      ],
      "execution_count": 63,
      "outputs": []
    },
    {
      "cell_type": "code",
      "metadata": {
        "colab": {
          "base_uri": "https://localhost:8080/",
          "height": 52
        },
        "id": "B2ciLemKeqhF",
        "outputId": "82ed63a1-b832-47c7-e376-ff3ddc438977"
      },
      "source": [
        "get_book_wrapper(3)"
      ],
      "execution_count": 64,
      "outputs": [
        {
          "output_type": "stream",
          "text": [
            "IndexErrorが発生しました\n"
          ],
          "name": "stdout"
        },
        {
          "output_type": "execute_result",
          "data": {
            "application/vnd.google.colaboratory.intrinsic+json": {
              "type": "string"
            },
            "text/plain": [
              "'範囲外'"
            ]
          },
          "metadata": {
            "tags": []
          },
          "execution_count": 64
        }
      ]
    },
    {
      "cell_type": "code",
      "metadata": {
        "id": "z75O9BpSewVq"
      },
      "source": [
        "def get_book_upper(index):\n",
        "    items = [\"note\", \"notebook\", \"sketchbook\"]\n",
        "    try:\n",
        "        book =str(items[index])\n",
        "        return book.upper()\n",
        "    except (IndexError,TypeError) as e:\n",
        "        print(f\"例外が発生しました:{e}\")"
      ],
      "execution_count": 3,
      "outputs": []
    },
    {
      "cell_type": "code",
      "metadata": {
        "id": "lbqCw51PgfrT"
      },
      "source": [
        "def get_book_upper(index):\n",
        "    items = [\"note\", \"notebook\", \"sketchbook\"]\n",
        "    try:\n",
        "        book = str(items[index])\n",
        "    except (IndexError,TypeError) as e:\n",
        "        print(f\"例外が発生しました:{e}\")\n",
        "    else:\n",
        "        return book.upper()"
      ],
      "execution_count": 66,
      "outputs": []
    },
    {
      "cell_type": "code",
      "metadata": {
        "colab": {
          "base_uri": "https://localhost:8080/"
        },
        "id": "cQlKehlSha2s",
        "outputId": "77689d25-2aeb-4f0c-f6fb-6adda542e2d8"
      },
      "source": [
        "get_book_upper(\"dobe\")"
      ],
      "execution_count": 69,
      "outputs": [
        {
          "output_type": "stream",
          "text": [
            "例外が発生しました:list indices must be integers or slices, not str\n"
          ],
          "name": "stdout"
        }
      ]
    },
    {
      "cell_type": "code",
      "metadata": {
        "colab": {
          "base_uri": "https://localhost:8080/"
        },
        "id": "Oa_9-v8Kh16g",
        "outputId": "9cc787d4-77b0-4d54-ded3-b81b8e37d7da"
      },
      "source": [
        "from io import UnsupportedOperation\n",
        "\n",
        "f = open(\"some.txt\",\"w\")\n",
        "try:\n",
        "    f.read()\n",
        "except UnsupportedOperation as e:\n",
        "    print(f\"例外が発生しました:{e}\")\n",
        "finally:\n",
        "    print(\"ファイルをクローズします\")\n",
        "    f.close()"
      ],
      "execution_count": 70,
      "outputs": [
        {
          "output_type": "stream",
          "text": [
            "例外が発生しました:not readable\n",
            "ファイルをクローズします\n"
          ],
          "name": "stdout"
        }
      ]
    },
    {
      "cell_type": "code",
      "metadata": {
        "id": "YObLnBUDlaTl"
      },
      "source": [
        "f = open(\"some.txt\", \"r\")\n",
        "try:\n",
        "    print(f.read())\n",
        "finally:\n",
        "    print(\"ファイルをクローズします\")\n",
        "    f.close()"
      ],
      "execution_count": null,
      "outputs": []
    },
    {
      "cell_type": "code",
      "metadata": {
        "id": "w80pDaJjmIC8"
      },
      "source": [
        "def get_book_upper(index):\n",
        "    iÇtems = [\"note\", \"notebook\", \"sketchbook\"]\n",
        "    try:\n",
        "        book = str(items[index])\n",
        "        return book.upper()\n",
        "    except (IndexError,TypeError) as e:\n",
        "        print(f\"例外が発生しました: {e}\")"
      ],
      "execution_count": 4,
      "outputs": []
    },
    {
      "cell_type": "code",
      "metadata": {
        "colab": {
          "base_uri": "https://localhost:8080/",
          "height": 35
        },
        "id": "pKzKNxPbStI3",
        "outputId": "39386399-ab21-4cdf-a279-cb24ec5d0023"
      },
      "source": [
        "title = \"book\"\n",
        "f\"python practice{title}\""
      ],
      "execution_count": 5,
      "outputs": [
        {
          "output_type": "execute_result",
          "data": {
            "application/vnd.google.colaboratory.intrinsic+json": {
              "type": "string"
            },
            "text/plain": [
              "'python practicebook'"
            ]
          },
          "metadata": {
            "tags": []
          },
          "execution_count": 5
        }
      ]
    },
    {
      "cell_type": "code",
      "metadata": {
        "colab": {
          "base_uri": "https://localhost:8080/",
          "height": 168
        },
        "id": "HENo0rkTV6Sm",
        "outputId": "26d84855-b288-42b3-90ce-b7610f172ada"
      },
      "source": [
        "items"
      ],
      "execution_count": 6,
      "outputs": [
        {
          "output_type": "error",
          "ename": "NameError",
          "evalue": "ignored",
          "traceback": [
            "\u001b[0;31m---------------------------------------------------------------------------\u001b[0m",
            "\u001b[0;31mNameError\u001b[0m                                 Traceback (most recent call last)",
            "\u001b[0;32m<ipython-input-6-92fc115b3de9>\u001b[0m in \u001b[0;36m<module>\u001b[0;34m()\u001b[0m\n\u001b[0;32m----> 1\u001b[0;31m \u001b[0mitems\u001b[0m\u001b[0;34m\u001b[0m\u001b[0;34m\u001b[0m\u001b[0m\n\u001b[0m",
            "\u001b[0;31mNameError\u001b[0m: name 'items' is not defined"
          ]
        }
      ]
    },
    {
      "cell_type": "code",
      "metadata": {
        "colab": {
          "base_uri": "https://localhost:8080/",
          "height": 168
        },
        "id": "GvsFwn48WMJb",
        "outputId": "2c9cf6f4-8c1b-4b12-8909-c10ed8b8dee5"
      },
      "source": [
        "print(items)"
      ],
      "execution_count": 7,
      "outputs": [
        {
          "output_type": "error",
          "ename": "NameError",
          "evalue": "ignored",
          "traceback": [
            "\u001b[0;31m---------------------------------------------------------------------------\u001b[0m",
            "\u001b[0;31mNameError\u001b[0m                                 Traceback (most recent call last)",
            "\u001b[0;32m<ipython-input-7-10f9e669297f>\u001b[0m in \u001b[0;36m<module>\u001b[0;34m()\u001b[0m\n\u001b[0;32m----> 1\u001b[0;31m \u001b[0mprint\u001b[0m\u001b[0;34m(\u001b[0m\u001b[0mitems\u001b[0m\u001b[0;34m)\u001b[0m\u001b[0;34m\u001b[0m\u001b[0;34m\u001b[0m\u001b[0m\n\u001b[0m",
            "\u001b[0;31mNameError\u001b[0m: name 'items' is not defined"
          ]
        }
      ]
    },
    {
      "cell_type": "code",
      "metadata": {
        "colab": {
          "base_uri": "https://localhost:8080/"
        },
        "id": "Q3ayRfkcWOww",
        "outputId": "75355879-2975-42f2-bd27-f9e50a12da77"
      },
      "source": [
        "items = [\"note\", \"notebook\", \"sketchbook\"]\n",
        "items[0:2]\n"
      ],
      "execution_count": 8,
      "outputs": [
        {
          "output_type": "execute_result",
          "data": {
            "text/plain": [
              "['note', 'notebook']"
            ]
          },
          "metadata": {
            "tags": []
          },
          "execution_count": 8
        }
      ]
    },
    {
      "cell_type": "code",
      "metadata": {
        "colab": {
          "base_uri": "https://localhost:8080/"
        },
        "id": "R9S8g9Q1WbG5",
        "outputId": "3cbad39e-b172-4383-c7e0-d214cdf73b7a"
      },
      "source": [
        "items"
      ],
      "execution_count": 9,
      "outputs": [
        {
          "output_type": "execute_result",
          "data": {
            "text/plain": [
              "['note', 'notebook', 'sketchbook']"
            ]
          },
          "metadata": {
            "tags": []
          },
          "execution_count": 9
        }
      ]
    },
    {
      "cell_type": "code",
      "metadata": {
        "colab": {
          "base_uri": "https://localhost:8080/",
          "height": 35
        },
        "id": "ODKnDJzOWc41",
        "outputId": "1c234eb0-49f0-4eb2-93d4-564ca9aa78a5"
      },
      "source": [
        "items[1]"
      ],
      "execution_count": 10,
      "outputs": [
        {
          "output_type": "execute_result",
          "data": {
            "application/vnd.google.colaboratory.intrinsic+json": {
              "type": "string"
            },
            "text/plain": [
              "'notebook'"
            ]
          },
          "metadata": {
            "tags": []
          },
          "execution_count": 10
        }
      ]
    },
    {
      "cell_type": "code",
      "metadata": {
        "colab": {
          "base_uri": "https://localhost:8080/"
        },
        "id": "lj7CudttWhBX",
        "outputId": "cc0315e2-da98-47ac-f01e-d6c19a8b1521"
      },
      "source": [
        "items[1:2]"
      ],
      "execution_count": 11,
      "outputs": [
        {
          "output_type": "execute_result",
          "data": {
            "text/plain": [
              "['notebook']"
            ]
          },
          "metadata": {
            "tags": []
          },
          "execution_count": 11
        }
      ]
    },
    {
      "cell_type": "code",
      "metadata": {
        "id": "BsZvSu__WjWB"
      },
      "source": [
        "items[0:2] = [1,2,3]"
      ],
      "execution_count": 12,
      "outputs": []
    },
    {
      "cell_type": "code",
      "metadata": {
        "colab": {
          "base_uri": "https://localhost:8080/"
        },
        "id": "8Kp23RiBWrWE",
        "outputId": "66ed997d-7dae-4532-822d-91d7590128a3"
      },
      "source": [
        "items"
      ],
      "execution_count": 13,
      "outputs": [
        {
          "output_type": "execute_result",
          "data": {
            "text/plain": [
              "[1, 2, 3, 'sketchbook']"
            ]
          },
          "metadata": {
            "tags": []
          },
          "execution_count": 13
        }
      ]
    },
    {
      "cell_type": "code",
      "metadata": {
        "id": "q89scuDBWs0P"
      },
      "source": [
        "items = (\"note\",\"mikan\",\"momo\")"
      ],
      "execution_count": 14,
      "outputs": []
    },
    {
      "cell_type": "code",
      "metadata": {
        "colab": {
          "base_uri": "https://localhost:8080/"
        },
        "id": "vI9LeVWoW0Hu",
        "outputId": "3ea71f2f-3575-46b5-a26e-6183287bfb07"
      },
      "source": [
        "type(items)"
      ],
      "execution_count": 15,
      "outputs": [
        {
          "output_type": "execute_result",
          "data": {
            "text/plain": [
              "tuple"
            ]
          },
          "metadata": {
            "tags": []
          },
          "execution_count": 15
        }
      ]
    },
    {
      "cell_type": "code",
      "metadata": {
        "colab": {
          "base_uri": "https://localhost:8080/"
        },
        "id": "iIxYfpolW2wl",
        "outputId": "0a6f0690-8b01-4d3b-95df-5574a3bb51c2"
      },
      "source": [
        "items"
      ],
      "execution_count": 17,
      "outputs": [
        {
          "output_type": "execute_result",
          "data": {
            "text/plain": [
              "('note', 'mikan', 'momo')"
            ]
          },
          "metadata": {
            "tags": []
          },
          "execution_count": 17
        }
      ]
    },
    {
      "cell_type": "code",
      "metadata": {
        "colab": {
          "base_uri": "https://localhost:8080/"
        },
        "id": "Mv58hcWDW45C",
        "outputId": "adf21932-d48d-432a-9b35-6f10f78e3be5"
      },
      "source": [
        "for item in items:\n",
        "    print(item)"
      ],
      "execution_count": 18,
      "outputs": [
        {
          "output_type": "stream",
          "text": [
            "note\n",
            "mikan\n",
            "momo\n"
          ],
          "name": "stdout"
        }
      ]
    },
    {
      "cell_type": "code",
      "metadata": {
        "colab": {
          "base_uri": "https://localhost:8080/"
        },
        "id": "VCQHtNPbX-Sv",
        "outputId": "fb11d41b-faf4-4bba-bced-30440f72d175"
      },
      "source": [
        "dict(note=1,notebook=2,mikan=3)"
      ],
      "execution_count": 19,
      "outputs": [
        {
          "output_type": "execute_result",
          "data": {
            "text/plain": [
              "{'mikan': 3, 'note': 1, 'notebook': 2}"
            ]
          },
          "metadata": {
            "tags": []
          },
          "execution_count": 19
        }
      ]
    },
    {
      "cell_type": "code",
      "metadata": {
        "colab": {
          "base_uri": "https://localhost:8080/"
        },
        "id": "wQx_HHKXYbHq",
        "outputId": "9b279588-ce61-4254-8342-c07be3cf7750"
      },
      "source": [
        "items"
      ],
      "execution_count": 20,
      "outputs": [
        {
          "output_type": "execute_result",
          "data": {
            "text/plain": [
              "('note', 'mikan', 'momo')"
            ]
          },
          "metadata": {
            "tags": []
          },
          "execution_count": 20
        }
      ]
    },
    {
      "cell_type": "code",
      "metadata": {
        "colab": {
          "base_uri": "https://localhost:8080/"
        },
        "id": "VXR7cD0mYkz9",
        "outputId": "8dcd926b-5438-4d00-8794-351cc1f606c7"
      },
      "source": [
        "dict"
      ],
      "execution_count": 21,
      "outputs": [
        {
          "output_type": "execute_result",
          "data": {
            "text/plain": [
              "dict"
            ]
          },
          "metadata": {
            "tags": []
          },
          "execution_count": 21
        }
      ]
    },
    {
      "cell_type": "code",
      "metadata": {
        "id": "6af0Bm9jYnsv"
      },
      "source": [
        "items = dict(note=1,notebook=2,mikan=3)"
      ],
      "execution_count": 22,
      "outputs": []
    },
    {
      "cell_type": "code",
      "metadata": {
        "colab": {
          "base_uri": "https://localhost:8080/"
        },
        "id": "dS6NoOdvgOqj",
        "outputId": "bc52b9c5-b20f-43c0-ad77-46342b9984b5"
      },
      "source": [
        "items\n"
      ],
      "execution_count": 23,
      "outputs": [
        {
          "output_type": "execute_result",
          "data": {
            "text/plain": [
              "{'mikan': 3, 'note': 1, 'notebook': 2}"
            ]
          },
          "metadata": {
            "tags": []
          },
          "execution_count": 23
        }
      ]
    },
    {
      "cell_type": "code",
      "metadata": {
        "colab": {
          "base_uri": "https://localhost:8080/"
        },
        "id": "Cwbg1wpugQKW",
        "outputId": "de033920-eb85-4bc3-f45d-ca45ecde3842"
      },
      "source": [
        "type(items)"
      ],
      "execution_count": 24,
      "outputs": [
        {
          "output_type": "execute_result",
          "data": {
            "text/plain": [
              "dict"
            ]
          },
          "metadata": {
            "tags": []
          },
          "execution_count": 24
        }
      ]
    },
    {
      "cell_type": "code",
      "metadata": {
        "id": "XRYg6tyGgUyd"
      },
      "source": [
        "items[\"eldenling\"]=4"
      ],
      "execution_count": 25,
      "outputs": []
    },
    {
      "cell_type": "code",
      "metadata": {
        "colab": {
          "base_uri": "https://localhost:8080/"
        },
        "id": "8IoB-JXjgb9t",
        "outputId": "bba586f3-39c2-436c-945b-a483c34169cd"
      },
      "source": [
        "items"
      ],
      "execution_count": 26,
      "outputs": [
        {
          "output_type": "execute_result",
          "data": {
            "text/plain": [
              "{'eldenling': 4, 'mikan': 3, 'note': 1, 'notebook': 2}"
            ]
          },
          "metadata": {
            "tags": []
          },
          "execution_count": 26
        }
      ]
    },
    {
      "cell_type": "code",
      "metadata": {
        "colab": {
          "base_uri": "https://localhost:8080/",
          "height": 168
        },
        "id": "lAfjFa8Ogc1s",
        "outputId": "eff19fff-3504-4cd6-8553-c97baae61702"
      },
      "source": [
        "items[\"4\"]"
      ],
      "execution_count": 27,
      "outputs": [
        {
          "output_type": "error",
          "ename": "KeyError",
          "evalue": "ignored",
          "traceback": [
            "\u001b[0;31m---------------------------------------------------------------------------\u001b[0m",
            "\u001b[0;31mKeyError\u001b[0m                                  Traceback (most recent call last)",
            "\u001b[0;32m<ipython-input-27-438731c4efc6>\u001b[0m in \u001b[0;36m<module>\u001b[0;34m()\u001b[0m\n\u001b[0;32m----> 1\u001b[0;31m \u001b[0mitems\u001b[0m\u001b[0;34m[\u001b[0m\u001b[0;34m\"4\"\u001b[0m\u001b[0;34m]\u001b[0m\u001b[0;34m\u001b[0m\u001b[0;34m\u001b[0m\u001b[0m\n\u001b[0m",
            "\u001b[0;31mKeyError\u001b[0m: '4'"
          ]
        }
      ]
    },
    {
      "cell_type": "code",
      "metadata": {
        "colab": {
          "base_uri": "https://localhost:8080/"
        },
        "id": "yTOSvLgqgh2u",
        "outputId": "8499fb5d-3c03-444f-e893-31a7b4622148"
      },
      "source": [
        "items.get(\"note\")"
      ],
      "execution_count": 28,
      "outputs": [
        {
          "output_type": "execute_result",
          "data": {
            "text/plain": [
              "1"
            ]
          },
          "metadata": {
            "tags": []
          },
          "execution_count": 28
        }
      ]
    },
    {
      "cell_type": "code",
      "metadata": {
        "colab": {
          "base_uri": "https://localhost:8080/"
        },
        "id": "jJMxhMJEgoEb",
        "outputId": "91fef4e8-ff06-428b-f52f-3411358d6872"
      },
      "source": [
        "items[\"note\"]"
      ],
      "execution_count": 29,
      "outputs": [
        {
          "output_type": "execute_result",
          "data": {
            "text/plain": [
              "1"
            ]
          },
          "metadata": {
            "tags": []
          },
          "execution_count": 29
        }
      ]
    },
    {
      "cell_type": "code",
      "metadata": {
        "colab": {
          "base_uri": "https://localhost:8080/",
          "height": 168
        },
        "id": "aeaGbUZNgs0u",
        "outputId": "e231482c-a906-4eec-bc44-8a8e94ae0a58"
      },
      "source": [
        "items[1]"
      ],
      "execution_count": 30,
      "outputs": [
        {
          "output_type": "error",
          "ename": "KeyError",
          "evalue": "ignored",
          "traceback": [
            "\u001b[0;31m---------------------------------------------------------------------------\u001b[0m",
            "\u001b[0;31mKeyError\u001b[0m                                  Traceback (most recent call last)",
            "\u001b[0;32m<ipython-input-30-e917e9711604>\u001b[0m in \u001b[0;36m<module>\u001b[0;34m()\u001b[0m\n\u001b[0;32m----> 1\u001b[0;31m \u001b[0mitems\u001b[0m\u001b[0;34m[\u001b[0m\u001b[0;36m1\u001b[0m\u001b[0;34m]\u001b[0m\u001b[0;34m\u001b[0m\u001b[0;34m\u001b[0m\u001b[0m\n\u001b[0m",
            "\u001b[0;31mKeyError\u001b[0m: 1"
          ]
        }
      ]
    },
    {
      "cell_type": "code",
      "metadata": {
        "colab": {
          "base_uri": "https://localhost:8080/"
        },
        "id": "tj73jit6g3h-",
        "outputId": "936d78a0-2f3e-4779-bc49-eb39de329a4f"
      },
      "source": [
        "for key in items:\n",
        "    print(key)"
      ],
      "execution_count": 31,
      "outputs": [
        {
          "output_type": "stream",
          "text": [
            "note\n",
            "notebook\n",
            "mikan\n",
            "eldenling\n"
          ],
          "name": "stdout"
        }
      ]
    },
    {
      "cell_type": "code",
      "metadata": {
        "colab": {
          "base_uri": "https://localhost:8080/"
        },
        "id": "7LtdjacFiN2d",
        "outputId": "8fdf9d4c-5c96-4a0f-cb90-fb8e97bbceba"
      },
      "source": [
        "print(items[\"note\"])"
      ],
      "execution_count": 32,
      "outputs": [
        {
          "output_type": "stream",
          "text": [
            "1\n"
          ],
          "name": "stdout"
        }
      ]
    },
    {
      "cell_type": "code",
      "metadata": {
        "colab": {
          "base_uri": "https://localhost:8080/"
        },
        "id": "svoHnpRti4k2",
        "outputId": "a0baac83-9944-43ba-fbf0-4cbfa86a7532"
      },
      "source": [
        "dict(note=\"ノート\",notebook=\"ノートブック\",mikan=\"みかん\")\n",
        "print(items[\"note\"])\n"
      ],
      "execution_count": 37,
      "outputs": [
        {
          "output_type": "stream",
          "text": [
            "1\n"
          ],
          "name": "stdout"
        }
      ]
    },
    {
      "cell_type": "code",
      "metadata": {
        "colab": {
          "base_uri": "https://localhost:8080/"
        },
        "id": "kht2sPbcjEgB",
        "outputId": "d5ce090e-2037-4696-c87b-dd8920c64b5a"
      },
      "source": [
        "print(items[\"note\"])"
      ],
      "execution_count": 34,
      "outputs": [
        {
          "output_type": "stream",
          "text": [
            "1\n"
          ],
          "name": "stdout"
        }
      ]
    },
    {
      "cell_type": "code",
      "metadata": {
        "id": "x7dc0yV6jKLJ"
      },
      "source": [
        "items = dict(note=\"ノート\",notebook=\"ノートブック\",mikan=\"みかん\")"
      ],
      "execution_count": 39,
      "outputs": []
    },
    {
      "cell_type": "code",
      "metadata": {
        "colab": {
          "base_uri": "https://localhost:8080/",
          "height": 35
        },
        "id": "CsHSif1yj8C-",
        "outputId": "ed821117-96ff-41ed-bedd-3d2cdda0d404"
      },
      "source": [
        "items.get(\"note\")"
      ],
      "execution_count": 45,
      "outputs": [
        {
          "output_type": "execute_result",
          "data": {
            "application/vnd.google.colaboratory.intrinsic+json": {
              "type": "string"
            },
            "text/plain": [
              "'ノート'"
            ]
          },
          "metadata": {
            "tags": []
          },
          "execution_count": 45
        }
      ]
    },
    {
      "cell_type": "code",
      "metadata": {
        "colab": {
          "base_uri": "https://localhost:8080/",
          "height": 35
        },
        "id": "MBQqQtfZkXxZ",
        "outputId": "a04db7e5-819d-485d-9284-7603149e3080"
      },
      "source": [
        "items[\"mikan\"]"
      ],
      "execution_count": 46,
      "outputs": [
        {
          "output_type": "execute_result",
          "data": {
            "application/vnd.google.colaboratory.intrinsic+json": {
              "type": "string"
            },
            "text/plain": [
              "'みかん'"
            ]
          },
          "metadata": {
            "tags": []
          },
          "execution_count": 46
        }
      ]
    },
    {
      "cell_type": "code",
      "metadata": {
        "colab": {
          "base_uri": "https://localhost:8080/"
        },
        "id": "JPMm5dl0ktCU",
        "outputId": "b12d5230-eb80-4b92-a88f-dbd5cc23ad83"
      },
      "source": [
        "text = \"\"\n",
        "print(\"辞書検索をします\")\n",
        "while text != \"finish\":\n",
        "    key = input(\"please word :\")\n",
        "\n",
        "    if key in items:\n",
        "        print(items[key])\n",
        "        text = \"finish\"\n",
        "    else:\n",
        "        print(f\"「{key}」は辞書「item」には登録されていません\")\n",
        "        pass\n",
        "        print(\"もう一度聞きます\")\n",
        "        continue\n",
        "print(\"good bye\")\n"
      ],
      "execution_count": 59,
      "outputs": [
        {
          "output_type": "stream",
          "text": [
            "辞書検索をします\n",
            "please word :ハロー\n",
            "「ハロー」は辞書「item」には登録されていません\n",
            "もう一度聞きます\n",
            "please word :みかん\n",
            "「みかん」は辞書「item」には登録されていません\n",
            "もう一度聞きます\n",
            "please word :note\n",
            "ノート\n",
            "good bye\n"
          ],
          "name": "stdout"
        }
      ]
    },
    {
      "cell_type": "code",
      "metadata": {
        "colab": {
          "base_uri": "https://localhost:8080/"
        },
        "id": "_Jj1KE_4l6VB",
        "outputId": "9c65785f-cf38-48a8-e201-ddae6a8545da"
      },
      "source": [
        "print(\"辞書検索をします\")\n",
        "while True:\n",
        "    key = input(\"please word :\")\n",
        "\n",
        "    if key in items:\n",
        "        print(items[key])\n",
        "        break\n",
        "    elif key == \"finish\":\n",
        "        print(\"終了します\")\n",
        "        break\n",
        "    else:\n",
        "        print(f\"「{key}」は辞書「item」には登録されていません\")\n",
        "        pass\n",
        "        print(\"もう一度聞きます\")\n",
        "        continue\n",
        "print(\"good bye\")"
      ],
      "execution_count": 68,
      "outputs": [
        {
          "output_type": "stream",
          "text": [
            "辞書検索をします\n",
            "please word :finish\n",
            "終了します\n",
            "good bye\n"
          ],
          "name": "stdout"
        }
      ]
    },
    {
      "cell_type": "code",
      "metadata": {
        "colab": {
          "base_uri": "https://localhost:8080/"
        },
        "id": "WpxgLMyNq8FL",
        "outputId": "9a9154f9-fb2b-4f16-a7b6-ac1b10a094c0"
      },
      "source": [
        "dict_obj = [1,2,3]\n",
        "print(len(dict_obj))"
      ],
      "execution_count": 69,
      "outputs": [
        {
          "output_type": "stream",
          "text": [
            "3\n"
          ],
          "name": "stdout"
        }
      ]
    },
    {
      "cell_type": "code",
      "metadata": {
        "colab": {
          "base_uri": "https://localhost:8080/"
        },
        "id": "gSA-0STqt-Sz",
        "outputId": "b7443246-efb5-4f0c-b2a2-0ae2eb028b8a"
      },
      "source": [
        "dict1 = {\"dog\": \"犬\", \"cat\": \"猫\"}\n",
        "dict2 = {\"dog\": \"犬\", \"cat\": \"cat\"}\n",
        "\n",
        "print(\"dic1 = dic2?\", dict == dict2)"
      ],
      "execution_count": 71,
      "outputs": [
        {
          "output_type": "stream",
          "text": [
            "dic1 = dic2? False\n"
          ],
          "name": "stdout"
        }
      ]
    },
    {
      "cell_type": "code",
      "metadata": {
        "colab": {
          "base_uri": "https://localhost:8080/"
        },
        "id": "6ujfHiwmuTUc",
        "outputId": "1cc08f4a-306c-4d09-a508-283bb7e46833"
      },
      "source": [
        "list_obj = [\"pen\", \"book\",\"notebook\"]\n",
        "\n",
        "print(\"book\" in list_obj)\n",
        "print(\"note\" in list_obj)"
      ],
      "execution_count": 73,
      "outputs": [
        {
          "output_type": "stream",
          "text": [
            "True\n",
            "False\n"
          ],
          "name": "stdout"
        }
      ]
    },
    {
      "cell_type": "code",
      "metadata": {
        "colab": {
          "base_uri": "https://localhost:8080/"
        },
        "id": "I2Qyu8EPunUW",
        "outputId": "6fb9d1cd-4813-457c-e46a-39349a9ef598"
      },
      "source": [
        "dict_obj = {\"dog\": \"犬\", \"cat\": \"猫\", \"parrot\": \"オウム\"}\n",
        "if \"cat\" in dict_obj:\n",
        "    print(\"cat is\", dict_obj[\"cat\"],\"desu\")"
      ],
      "execution_count": 74,
      "outputs": [
        {
          "output_type": "stream",
          "text": [
            "cat is 猫 desu\n"
          ],
          "name": "stdout"
        }
      ]
    },
    {
      "cell_type": "code",
      "metadata": {
        "colab": {
          "base_uri": "https://localhost:8080/"
        },
        "id": "sOA3mgtUvM-x",
        "outputId": "0983f9ac-e6fb-42d4-8ba4-62bac482cc4d"
      },
      "source": [
        "obj = \"hello world\"\n",
        "\n",
        "print(\"w\" in obj)"
      ],
      "execution_count": 75,
      "outputs": [
        {
          "output_type": "stream",
          "text": [
            "True\n"
          ],
          "name": "stdout"
        }
      ]
    },
    {
      "cell_type": "code",
      "metadata": {
        "colab": {
          "base_uri": "https://localhost:8080/"
        },
        "id": "0YGJjb9tyMTa",
        "outputId": "5446f613-41ff-4687-85ed-e4a6cafa35cb"
      },
      "source": [
        "list_obj"
      ],
      "execution_count": 76,
      "outputs": [
        {
          "output_type": "execute_result",
          "data": {
            "text/plain": [
              "['pen', 'book', 'notebook']"
            ]
          },
          "metadata": {
            "tags": []
          },
          "execution_count": 76
        }
      ]
    },
    {
      "cell_type": "code",
      "metadata": {
        "colab": {
          "base_uri": "https://localhost:8080/"
        },
        "id": "LXLhIAU0ynFK",
        "outputId": "6b9f086a-ebe5-457a-9e0f-d05bac577a37"
      },
      "source": [
        "for bungu in list_obj:\n",
        "    upper_bungu = bungu.upper()\n",
        "    print(upper_bungu)"
      ],
      "execution_count": 77,
      "outputs": [
        {
          "output_type": "stream",
          "text": [
            "PEN\n",
            "BOOK\n",
            "NOTEBOOK\n"
          ],
          "name": "stdout"
        }
      ]
    },
    {
      "cell_type": "code",
      "metadata": {
        "colab": {
          "base_uri": "https://localhost:8080/"
        },
        "id": "mrOrgrOLy0__",
        "outputId": "3e9c368c-64e5-4295-b6fc-e7974056f884"
      },
      "source": [
        "variable = 1000\n",
        "print(str(variable))"
      ],
      "execution_count": 79,
      "outputs": [
        {
          "output_type": "stream",
          "text": [
            "1000\n"
          ],
          "name": "stdout"
        }
      ]
    },
    {
      "cell_type": "code",
      "metadata": {
        "colab": {
          "base_uri": "https://localhost:8080/"
        },
        "id": "IvAVl1GT0X6l",
        "outputId": "a0b45a9a-73b0-49b2-bf92-00caa71f7f0d"
      },
      "source": [
        "list_obj"
      ],
      "execution_count": 80,
      "outputs": [
        {
          "output_type": "execute_result",
          "data": {
            "text/plain": [
              "['pen', 'book', 'notebook']"
            ]
          },
          "metadata": {
            "tags": []
          },
          "execution_count": 80
        }
      ]
    },
    {
      "cell_type": "code",
      "metadata": {
        "id": "IOkVZJ2R0fzr"
      },
      "source": [
        "var1,var2,var3 = list_obj"
      ],
      "execution_count": 81,
      "outputs": []
    },
    {
      "cell_type": "code",
      "metadata": {
        "colab": {
          "base_uri": "https://localhost:8080/"
        },
        "id": "hB1nSsow0nAu",
        "outputId": "256f73e0-0bdf-4d97-c8dc-1fbc50bc809d"
      },
      "source": [
        "print(var1,var2,var3)"
      ],
      "execution_count": 82,
      "outputs": [
        {
          "output_type": "stream",
          "text": [
            "pen book notebook\n"
          ],
          "name": "stdout"
        }
      ]
    },
    {
      "cell_type": "code",
      "metadata": {
        "colab": {
          "base_uri": "https://localhost:8080/"
        },
        "id": "6EkzUXDX0p1_",
        "outputId": "5e71e075-f636-4666-fc2a-ecaee133fc85"
      },
      "source": [
        "list_obj"
      ],
      "execution_count": 83,
      "outputs": [
        {
          "output_type": "execute_result",
          "data": {
            "text/plain": [
              "['pen', 'book', 'notebook']"
            ]
          },
          "metadata": {
            "tags": []
          },
          "execution_count": 83
        }
      ]
    },
    {
      "cell_type": "code",
      "metadata": {
        "colab": {
          "base_uri": "https://localhost:8080/",
          "height": 168
        },
        "id": "E0SiqkGu0s6R",
        "outputId": "ac63a1a8-545f-4caf-a1c9-2fe3e6159689"
      },
      "source": [
        "ningyocho"
      ],
      "execution_count": 84,
      "outputs": [
        {
          "output_type": "error",
          "ename": "NameError",
          "evalue": "ignored",
          "traceback": [
            "\u001b[0;31m---------------------------------------------------------------------------\u001b[0m",
            "\u001b[0;31mNameError\u001b[0m                                 Traceback (most recent call last)",
            "\u001b[0;32m<ipython-input-84-003e4f223de4>\u001b[0m in \u001b[0;36m<module>\u001b[0;34m()\u001b[0m\n\u001b[0;32m----> 1\u001b[0;31m \u001b[0mningyocho\u001b[0m\u001b[0;34m\u001b[0m\u001b[0;34m\u001b[0m\u001b[0m\n\u001b[0m",
            "\u001b[0;31mNameError\u001b[0m: name 'ningyocho' is not defined"
          ]
        }
      ]
    },
    {
      "cell_type": "code",
      "metadata": {
        "colab": {
          "base_uri": "https://localhost:8080/"
        },
        "id": "uDsZp6hY031L",
        "outputId": "6e39c913-cc4f-497e-eb53-a02c4db5b58b"
      },
      "source": [
        "ningyocho = (35.686321, 139.782211)\n",
        "\n",
        "ido, keido = ningyocho\n",
        "\n",
        "print(\"緯度\",ido, \"経度\", keido)\n",
        "\n"
      ],
      "execution_count": 86,
      "outputs": [
        {
          "output_type": "stream",
          "text": [
            "緯度 35.686321 経度 139.782211\n"
          ],
          "name": "stdout"
        }
      ]
    },
    {
      "cell_type": "code",
      "metadata": {
        "colab": {
          "base_uri": "https://localhost:8080/"
        },
        "id": "UUfrjcP_1XFG",
        "outputId": "19c5caf1-c6e1-4ed5-8c16-edf70970c431"
      },
      "source": [
        "cases = [100, 125, 110, 135, 93, 95, 93]\n",
        "\n",
        "total = 0\n",
        "\n",
        "for cases_of_day in cases:\n",
        "    total = total + cases_of_day\n",
        "    cases_ave = total / len(cases)\n",
        "\n",
        "print(f\"合計は{total}人\")\n",
        "print(\"平均\", round(cases_ave),\"人\")"
      ],
      "execution_count": 96,
      "outputs": [
        {
          "output_type": "stream",
          "text": [
            "合計は751人\n",
            "平均 107 人\n"
          ],
          "name": "stdout"
        }
      ]
    },
    {
      "cell_type": "code",
      "metadata": {
        "colab": {
          "base_uri": "https://localhost:8080/"
        },
        "id": "a2V8PYlg4yu2",
        "outputId": "70404f00-8866-484b-b0ed-671225de45be"
      },
      "source": [
        "!git init"
      ],
      "execution_count": 98,
      "outputs": [
        {
          "output_type": "stream",
          "text": [
            "Initialized empty Git repository in /content/.git/\n"
          ],
          "name": "stdout"
        }
      ]
    },
    {
      "cell_type": "code",
      "metadata": {
        "colab": {
          "base_uri": "https://localhost:8080/"
        },
        "id": "lbx6uG_Z5yi3",
        "outputId": "6f1867d2-25f8-47f2-f933-bb37f8a768b9"
      },
      "source": [
        "!git add README.md"
      ],
      "execution_count": 99,
      "outputs": [
        {
          "output_type": "stream",
          "text": [
            "fatal: pathspec 'README.md' did not match any files\n"
          ],
          "name": "stdout"
        }
      ]
    },
    {
      "cell_type": "code",
      "metadata": {
        "colab": {
          "base_uri": "https://localhost:8080/"
        },
        "id": "GMw1IEVi58tW",
        "outputId": "8c8e86bb-25d2-415c-9617-4c785c98cd7a"
      },
      "source": [
        "!git commit -m\"first\""
      ],
      "execution_count": 100,
      "outputs": [
        {
          "output_type": "stream",
          "text": [
            "\n",
            "*** Please tell me who you are.\n",
            "\n",
            "Run\n",
            "\n",
            "  git config --global user.email \"you@example.com\"\n",
            "  git config --global user.name \"Your Name\"\n",
            "\n",
            "to set your account's default identity.\n",
            "Omit --global to set the identity only in this repository.\n",
            "\n",
            "fatal: unable to auto-detect email address (got 'root@2a055d47b39e.(none)')\n"
          ],
          "name": "stdout"
        }
      ]
    },
    {
      "cell_type": "code",
      "metadata": {
        "colab": {
          "base_uri": "https://localhost:8080/"
        },
        "id": "_HKt2QRC6A79",
        "outputId": "5dd42833-e0a6-4252-eb89-21f9f8dea09e"
      },
      "source": [
        "!git remote add origin git@github.com:totonoizm/python_practice.git"
      ],
      "execution_count": 103,
      "outputs": [
        {
          "output_type": "stream",
          "text": [
            "fatal: remote origin already exists.\n"
          ],
          "name": "stdout"
        }
      ]
    },
    {
      "cell_type": "code",
      "metadata": {
        "colab": {
          "base_uri": "https://localhost:8080/"
        },
        "id": "OYhKQlIN6Ldc",
        "outputId": "55d0ad89-5c38-422b-ce08-dbac568e4bb7"
      },
      "source": [
        "!git branch -M main"
      ],
      "execution_count": 105,
      "outputs": [
        {
          "output_type": "stream",
          "text": [
            "error: refname refs/heads/master not found\n",
            "fatal: Branch rename failed\n"
          ],
          "name": "stdout"
        }
      ]
    },
    {
      "cell_type": "code",
      "metadata": {
        "id": "YZKK9uas6UT8"
      },
      "source": [
        ""
      ],
      "execution_count": null,
      "outputs": []
    }
  ]
}