{
  "nbformat": 4,
  "nbformat_minor": 0,
  "metadata": {
    "colab": {
      "name": "SUIKA割ipynb",
      "provenance": [],
      "collapsed_sections": [],
      "authorship_tag": "ABX9TyMtwbSXloO7BTHEYHlNlYzB",
      "include_colab_link": true
    },
    "kernelspec": {
      "name": "python3",
      "display_name": "Python 3"
    },
    "language_info": {
      "name": "python"
    }
  },
  "cells": [
    {
      "cell_type": "markdown",
      "metadata": {
        "id": "view-in-github",
        "colab_type": "text"
      },
      "source": [
        "<a href=\"https://colab.research.google.com/github/totonoizm/python_practice/blob/main/SUIKA%E5%89%B2ipynb.ipynb\" target=\"_parent\"><img src=\"https://colab.research.google.com/assets/colab-badge.svg\" alt=\"Open In Colab\"/></a>"
      ]
    },
    {
      "cell_type": "code",
      "metadata": {
        "colab": {
          "base_uri": "https://localhost:8080/"
        },
        "id": "1ahfDdBL8CIg",
        "outputId": "83ba5f4a-aadb-482e-9cc8-a84086288b0b"
      },
      "source": [
        "import random\n",
        "import math\n",
        "\n",
        "def calc_distance(x1,y1,x2,y2):\n",
        "    diff_x = x1 - x2\n",
        "    diff_y = y1 - y2\n",
        "\n",
        "    return math.sqrt(diff_x**2 + diff_y**2)\n",
        "\n",
        "\n",
        "suika_x = random.randrange(0, 5) #スイカのX座標\n",
        "suika_y = random.randrange(0, 5) #スイカのY座標\n",
        "\n",
        "# プレイヤーの位置を決める\n",
        "player_x = random.randrange(0, 10)\n",
        "player_y = random.randrange(0, 10)\n",
        "\n",
        "\n",
        "\n",
        "\n",
        "while (suika_x != player_x) or (suika_y != player_y):\n",
        "\n",
        "    distance = calc_distance(player_x, player_y, suika_x, suika_y)\n",
        "    print(f\"スイカへの距離は {distance}\")\n",
        "    c = input(\"n:北に移動 s:南に移動 e:東に移動 w:西に移動\")\n",
        "    if c == \"n\":\n",
        "        print(\"北に移動\")\n",
        "        player_y = player_y - 1\n",
        "    elif c == \"s\":\n",
        "        print(\"南に移動\")\n",
        "        player_y = player_y + 1\n",
        "    elif c == \"e\":\n",
        "        print(\"東に移動\")\n",
        "        player_x = player_x - 1\n",
        "    elif c == \"w\":\n",
        "        print(\"西に移動\")\n",
        "        player_x = player_x + 1\n",
        "    else:\n",
        "        print(\"入力してください\")\n",
        "    \n",
        "print(\"!!!!スイカを破りました!!!\")"
      ],
      "execution_count": 9,
      "outputs": [
        {
          "output_type": "stream",
          "text": [
            "スイカへの距離は 3.1622776601683795\n",
            "n:北に移動 s:南に移動 e:東に移動 w:西に移動n\n",
            "北に移動\n",
            "スイカへの距離は 4.123105625617661\n",
            "n:北に移動 s:南に移動 e:東に移動 w:西に移動s\n",
            "南に移動\n",
            "スイカへの距離は 3.1622776601683795\n",
            "n:北に移動 s:南に移動 e:東に移動 w:西に移動s\n",
            "南に移動\n",
            "スイカへの距離は 2.23606797749979\n",
            "n:北に移動 s:南に移動 e:東に移動 w:西に移動s\n",
            "南に移動\n",
            "スイカへの距離は 1.4142135623730951\n",
            "n:北に移動 s:南に移動 e:東に移動 w:西に移動s\n",
            "南に移動\n",
            "スイカへの距離は 1.0\n",
            "n:北に移動 s:南に移動 e:東に移動 w:西に移動e\n",
            "東に移動\n",
            "スイカへの距離は 2.0\n",
            "n:北に移動 s:南に移動 e:東に移動 w:西に移動w\n",
            "西に移動\n",
            "スイカへの距離は 1.0\n",
            "n:北に移動 s:南に移動 e:東に移動 w:西に移動w\n",
            "西に移動\n",
            "!!!!スイカを破りました!!!\n"
          ],
          "name": "stdout"
        }
      ]
    },
    {
      "cell_type": "code",
      "metadata": {
        "id": "zCTwjjLK8fru"
      },
      "source": [
        "\n",
        "\n"
      ],
      "execution_count": 6,
      "outputs": []
    },
    {
      "cell_type": "code",
      "metadata": {
        "id": "YqSEyDOV9Tph"
      },
      "source": [
        ""
      ],
      "execution_count": null,
      "outputs": []
    }
  ]
}